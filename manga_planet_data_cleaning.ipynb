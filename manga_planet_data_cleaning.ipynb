{
 "cells": [
  {
   "cell_type": "markdown",
   "metadata": {},
   "source": [
    "Purpose to Analyse the most and least popular series comic type stories on mangaplanet.com. \n",
    "Data is from 5/17/22"
   ]
  },
  {
   "cell_type": "code",
   "execution_count": 2,
   "metadata": {},
   "outputs": [],
   "source": [
    "# import libraries\n",
    "\n",
    "import numpy as np\n",
    "import pandas as pd"
   ]
  },
  {
   "cell_type": "code",
   "execution_count": 72,
   "metadata": {},
   "outputs": [
    {
     "name": "stderr",
     "output_type": "stream",
     "text": [
      "c:\\Users\\ricky\\anaconda3\\lib\\site-packages\\IPython\\core\\interactiveshell.py:3444: DtypeWarning: Columns (4) have mixed types.Specify dtype option on import or set low_memory=False.\n",
      "  exec(code_obj, self.user_global_ns, self.user_ns)\n"
     ]
    }
   ],
   "source": [
    "# Read file\n",
    "\n",
    "manga_df = pd.read_csv('manga_planet_data.csv')\n"
   ]
  },
  {
   "cell_type": "code",
   "execution_count": 73,
   "metadata": {},
   "outputs": [],
   "source": [
    "# Renames the unnamed column and adds 1 to each value to represent the series ranking.\n",
    "\n",
    "manga_df.rename( columns={'Unnamed: 0':'rank'},inplace = True)\n",
    "\n",
    "manga_df['rank'] = manga_df['rank'] + 1\n"
   ]
  },
  {
   "cell_type": "markdown",
   "metadata": {},
   "source": [
    "# Cleaning Years section\n",
    "\n",
    "Years has incorrect information from the data scraping. Some values were shifted over 1 column. This caused the publisher column to be blank, the years to contain publisher name, and ratings column to contain year values. The ratings column was empty values."
   ]
  },
  {
   "cell_type": "code",
   "execution_count": 74,
   "metadata": {},
   "outputs": [],
   "source": [
    "# Finds years of length 4\n",
    "year_df = manga_df[manga_df['year'].str.len() == 4].copy() #used to find list of incorrect years that are of length 4\n"
   ]
  },
  {
   "cell_type": "code",
   "execution_count": 75,
   "metadata": {},
   "outputs": [],
   "source": [
    "# List of bad 4 length years and the fixed version\n",
    "bad_year = ['Wink','SPA!','REX!','Puff','Moae','Moca','Mink','mimi','Lynx','Laza','Lala','LaLa','Kiss','Judy','Itan','Ikki','Gust','Gush','Garo','Eden',\n",
    "            'Drap','CREA','Ciel','Ciao','Buka','Baby','Aria','Amie']\n",
    "bad_year_df = year_df.loc[year_df['year'].isin(bad_year)].copy()\n",
    "bad_year_df.loc[:,\"publisher\"]=bad_year_df['year']\n",
    "bad_year_df.loc[:,\"year\"] = bad_year_df['rating'].str[:4]\n",
    "bad_year_df['rating'] = np.nan\n",
    "good_year_df = bad_year_df"
   ]
  },
  {
   "cell_type": "code",
   "execution_count": 76,
   "metadata": {},
   "outputs": [],
   "source": [
    "# Replacees nan objects with a string of NAN so update can replace values with NAN, NAN is then returned to np.nan in original dataframe.\n",
    "\n",
    "good_year_df.replace(np.nan,'NAN', inplace=True)\n",
    "manga_df.update(good_year_df)\n",
    "manga_df.replace('NAN',np.nan, inplace=True)\n"
   ]
  },
  {
   "cell_type": "code",
   "execution_count": 77,
   "metadata": {},
   "outputs": [],
   "source": [
    "#  Finds incorrect year values of lenght not equal to 4 that are also not null.\n",
    "\n",
    "year_df = manga_df[manga_df['year'].str.len() != 4].copy()\n",
    "year_df = year_df.loc[~year_df['year'].isnull()]\n",
    "year_df['publisher']= year_df['year']\n",
    "year_df['year'] = year_df['rating'].str[:4]\n",
    "year_df['rating'] = 'NAN'\n",
    "year_df.replace(np.nan,'NAN', inplace=True)"
   ]
  },
  {
   "cell_type": "code",
   "execution_count": 78,
   "metadata": {},
   "outputs": [],
   "source": [
    "# update original\n",
    "\n",
    "manga_df.update(year_df)\n",
    "manga_df.replace('NAN',np.nan, inplace=True)"
   ]
  },
  {
   "cell_type": "code",
   "execution_count": 79,
   "metadata": {},
   "outputs": [],
   "source": [
    "# Save dataframe with fixed columns to csv\n",
    "manga_df.to_csv('manga_planet_data_cleaned_v1.csv', index = False)"
   ]
  },
  {
   "cell_type": "markdown",
   "metadata": {},
   "source": [
    "## Start of part two Cleaning volume column"
   ]
  },
  {
   "cell_type": "markdown",
   "metadata": {},
   "source": [
    "The volume column contains the value of the number of volumed and chapters a series as a string. The string generally has the form of 'vol: 2 ch: 10'. \n",
    "My goal is to seperate the volumes and chapters and then convert them to numerical values to work with later in data analysis. Some issues with this work is some series only have volume or chapter information. A possible fix was to find the average numbers a chapters a volume has and use that equation would compute missing information. I choose to just leave the values as np.nan, as many series or digital only and have no physical volumes. Other series have more chapters then volumes as the chapters are published separatly. Another issue is some of the values given to the amount of volumes and chapters a series has is given by 3+. With the + indicating that the series has at least 3 chapters. As many series recieve new chapters frequently, I felt it was fine to just remove the + sign and not adding extra chapters to attempt to account for an unspecified amount of missing chapters."
   ]
  },
  {
   "cell_type": "code",
   "execution_count": 3,
   "metadata": {},
   "outputs": [],
   "source": [
    "# Here to reload dataframe if an error occurs.\n",
    "manga_df = pd.read_csv('manga_planet_data_cleaned_v1.csv')"
   ]
  },
  {
   "cell_type": "code",
   "execution_count": 4,
   "metadata": {},
   "outputs": [],
   "source": [
    "# Going to split columns later, volume information will be out in front.\n",
    "manga_df.rename(columns={'latest chapter':'volume'}, inplace=True)\n"
   ]
  },
  {
   "cell_type": "code",
   "execution_count": 5,
   "metadata": {},
   "outputs": [],
   "source": [
    "# Split volumes and chapters over delimiter : and add chapters to a chapter column.\n",
    "manga_df[['volume', 'chapter']] = manga_df['volume'].str.split(';', expand=True)\n"
   ]
  },
  {
   "cell_type": "code",
   "execution_count": 6,
   "metadata": {},
   "outputs": [],
   "source": [
    "# Some series did not have a volume. Added that information to chapter column. Plan to make all values numerical. Changed 1 chapter series known as one shot to have a lenght of 1.\n",
    "manga_df['chapter'].fillna(value=manga_df['volume'], inplace=True)\n",
    "manga_df['volume'].replace('One Shot',0, inplace=True)\n",
    "manga_df['chapter'].replace('One Shot',1, inplace=True)"
   ]
  },
  {
   "cell_type": "code",
   "execution_count": 7,
   "metadata": {},
   "outputs": [],
   "source": [
    "# change chapters in volume column to nan and volumes in chapter column to nan. Possible to just set them to 0, but I did that in my analysis work.\n",
    "manga_df.loc[manga_df['volume'].str.contains('C', na=False), \"volume\"] = np.nan\n",
    "manga_df.loc[manga_df['chapter'].str.contains('V', na=False),'chapter'] = np.nan"
   ]
  },
  {
   "cell_type": "code",
   "execution_count": 8,
   "metadata": {},
   "outputs": [],
   "source": [
    "# Remove nonnumeric values.\n",
    "\n",
    "manga_df['volume']=manga_df['volume'].str.extract('(\\d+)')\n",
    "manga_df['chapter']=manga_df['chapter'].str.extract('(\\d+)')"
   ]
  },
  {
   "cell_type": "code",
   "execution_count": 9,
   "metadata": {},
   "outputs": [
    {
     "data": {
      "text/plain": [
       "rank           float64\n",
       "title           object\n",
       "description     object\n",
       "volume         float64\n",
       "publisher       object\n",
       "year           float64\n",
       "rating         float64\n",
       "tags            object\n",
       "chapter        float64\n",
       "dtype: object"
      ]
     },
     "execution_count": 9,
     "metadata": {},
     "output_type": "execute_result"
    }
   ],
   "source": [
    "# Summary data\n",
    "\n",
    "\n",
    "manga_df['volume'] = manga_df['volume'].astype(float)\n",
    "manga_df['chapter'] = manga_df['chapter'].astype(float)\n",
    "manga_df.dtypes"
   ]
  },
  {
   "cell_type": "code",
   "execution_count": 10,
   "metadata": {},
   "outputs": [],
   "source": [
    "# Replaces nan publishers with string Undefined\n",
    "\n",
    "manga_df['publisher'].replace(np.nan, 'Undefined', inplace=True)"
   ]
  },
  {
   "cell_type": "code",
   "execution_count": 12,
   "metadata": {},
   "outputs": [],
   "source": [
    "# Save to fully clean csv file \n",
    "manga_df.to_csv('manga_planet_data_fully_cleaned_v1.csv', index=False)"
   ]
  }
 ],
 "metadata": {
  "interpreter": {
   "hash": "709221cd6e8e8bb1271bebb288222f3d75e028518a70d134b83bcc07aeaab82d"
  },
  "kernelspec": {
   "display_name": "Python 3.9.7 ('base')",
   "language": "python",
   "name": "python3"
  },
  "language_info": {
   "codemirror_mode": {
    "name": "ipython",
    "version": 3
   },
   "file_extension": ".py",
   "mimetype": "text/x-python",
   "name": "python",
   "nbconvert_exporter": "python",
   "pygments_lexer": "ipython3",
   "version": "3.9.7"
  },
  "orig_nbformat": 4
 },
 "nbformat": 4,
 "nbformat_minor": 2
}
