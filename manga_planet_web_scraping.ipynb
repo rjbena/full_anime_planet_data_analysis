{
 "cells": [
  {
   "cell_type": "markdown",
   "metadata": {},
   "source": [
    "Scrape data from the manga section of animeplanet.com. Inspired by https://github.com/victor-soeiro/WebScraping-Projects/blob/main/anime-planet/main.ipynb\n",
    "Data from 05/17/21"
   ]
  },
  {
   "cell_type": "code",
   "execution_count": 6,
   "metadata": {},
   "outputs": [],
   "source": [
    "# import libraries\n",
    "\n",
    "import numpy as np\n",
    "import pandas as pd\n",
    "import requests\n",
    "import time\n",
    "\n",
    "from tqdm.notebook import tnrange\n",
    "from bs4 import BeautifulSoup\n",
    "\n"
   ]
  },
  {
   "cell_type": "code",
   "execution_count": 35,
   "metadata": {},
   "outputs": [],
   "source": [
    "# Variables used throughout the project.\n",
    "\n",
    "URL = 'https://www.anime-planet.com/manga/all'\n",
    "headers ={\"User-Agent\":'Mozilla/5.0 (Windows NT 10.0; Win64; x64) AppleWebKit/537.36 (KHTML, like Gecko) Chrome/101.0.4951.54 Safari/537.36'}\n",
    "end_page = 2051\n",
    "field_names = ['title','description','latest chapter','publisher','year','rating','tags']\n",
    "pages_data = {}"
   ]
  },
  {
   "cell_type": "code",
   "execution_count": 11,
   "metadata": {},
   "outputs": [],
   "source": [
    "# checks if scraping failed, returns nan if scraping failed\n",
    "\n",
    "def check_text(value):\n",
    "    if value:\n",
    "        return value.text\n",
    "    \n",
    "    return np.nan\n",
    "\n"
   ]
  },
  {
   "cell_type": "code",
   "execution_count": 25,
   "metadata": {},
   "outputs": [],
   "source": [
    "# Extracts info needed from html and stores it in variables to return it. Some series have different missing html elements. This causes columns to be\n",
    "# shifted over incorrectly. This is fixed in my data cleaning file.\n",
    "\n",
    "def item_scaper(item):\n",
    "    info = item.a['title']\n",
    "    info_soup = BeautifulSoup(info,'html.parser')\n",
    "    \n",
    "    title = info_soup.find('h5').text.strip()\n",
    "    description = info_soup.find('p').text.strip()\n",
    "    if info_soup.h4:\n",
    "     tags = [t.text for t in info_soup.h4.nextSibling.findAll('li')]\n",
    "    else:\n",
    "        tags = []\n",
    "    body = info_soup.find('ul', attrs={\"class\":'entryBar'})\n",
    "    body_items = body.findAll('li')\n",
    "    if (len(body_items) == 4):\n",
    "        latest_chapter = body_items[0].text\n",
    "        publisher = body_items[1].text\n",
    "        year = body_items[2].text.split(' - ')[0]\n",
    "        rating = body_items[3].text\n",
    "    elif(len(body_items) == 3):\n",
    "           latest_chapter = body_items[0].text\n",
    "           publisher = np.nan\n",
    "           year = body_items[1].text.split(' - ')[0]\n",
    "           rating = body_items[2].text\n",
    "    elif(len(body_items) ==2):\n",
    "           latest_chapter= body_items[0].text\n",
    "           publisher = np.nan\n",
    "           year = body_items[1].text.split(' - ')[0]\n",
    "           rating = np.nan\n",
    "    elif(len(body_items)==1):\n",
    "           latest_chapter= body_items[0].text\n",
    "           publisher = np.nan\n",
    "           year = np.nan\n",
    "           rating = np.nan\n",
    "    else:\n",
    "        latest_chapter= np.nan\n",
    "        publisher = np.nan\n",
    "        year = np.nan\n",
    "        rating = np.nan\n",
    "    data = [title,description, latest_chapter, publisher, year, rating,tags]\n",
    "    \n",
    "    return data"
   ]
  },
  {
   "cell_type": "code",
   "execution_count": 37,
   "metadata": {},
   "outputs": [],
   "source": [
    "# Starts the data scrapping project for each page.\n",
    "\n",
    "def scraper(page=1):\n",
    "    req = requests.get(URL, headers=headers, params={'page': page})\n",
    "    if req.status_code != 200:\n",
    "        return []\n",
    "    \n",
    "    soup = BeautifulSoup(req.text, 'html.parser')\n",
    "    \n",
    "    container = soup.find('ul', attrs={'class': 'cardDeck'})\n",
    "    items = container.findAll('li')\n",
    "    \n",
    "    data = [item_scaper(i) for i in items]\n",
    "    return data\n"
   ]
  },
  {
   "cell_type": "code",
   "execution_count": 38,
   "metadata": {},
   "outputs": [
    {
     "data": {
      "application/vnd.jupyter.widget-view+json": {
       "model_id": "4dd633d31ff04fb09a3ddb40a7506adc",
       "version_major": 2,
       "version_minor": 0
      },
      "text/plain": [
       "Pages:   0%|          | 0/2051 [00:00<?, ?it/s]"
      ]
     },
     "metadata": {},
     "output_type": "display_data"
    }
   ],
   "source": [
    "# Loops through the pages we are webscrapping\n",
    "\n",
    "for i in tnrange(end_page, desc='Pages'):\n",
    "    page = i + 1\n",
    "    \n",
    "    if pages_data.get(page, []):\n",
    "        continue\n",
    "    \n",
    "    data = scraper(page)\n",
    "    pages_data[page] = data\n",
    "    \n",
    "    time.sleep(1)"
   ]
  },
  {
   "cell_type": "code",
   "execution_count": 39,
   "metadata": {},
   "outputs": [],
   "source": [
    "# Adds all the data to a list and then writes it to a csv file.\n",
    "\n",
    "full_data= []\n",
    "for i in pages_data.values():\n",
    "    full_data.extend(i)\n",
    "\n",
    "pd.DataFrame(full_data, columns=field_names).to_csv('manga_planet_data.csv')"
   ]
  }
 ],
 "metadata": {
  "interpreter": {
   "hash": "709221cd6e8e8bb1271bebb288222f3d75e028518a70d134b83bcc07aeaab82d"
  },
  "kernelspec": {
   "display_name": "Python 3.9.7 ('base')",
   "language": "python",
   "name": "python3"
  },
  "language_info": {
   "codemirror_mode": {
    "name": "ipython",
    "version": 3
   },
   "file_extension": ".py",
   "mimetype": "text/x-python",
   "name": "python",
   "nbconvert_exporter": "python",
   "pygments_lexer": "ipython3",
   "version": "3.9.7"
  },
  "orig_nbformat": 4
 },
 "nbformat": 4,
 "nbformat_minor": 2
}
